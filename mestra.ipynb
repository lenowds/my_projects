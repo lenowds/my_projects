{
  "nbformat": 4,
  "nbformat_minor": 5,
  "metadata": {
    "kernelspec": {
      "display_name": "Python 3",
      "language": "python",
      "name": "python3"
    },
    "language_info": {
      "codemirror_mode": {
        "name": "ipython",
        "version": 3
      },
      "file_extension": ".py",
      "mimetype": "text/x-python",
      "name": "python",
      "nbconvert_exporter": "python",
      "pygments_lexer": "ipython3",
      "version": "3.7.10"
    },
    "colab": {
      "name": "mestra.ipynb",
      "provenance": [],
      "collapsed_sections": []
    }
  },
  "cells": [
    {
      "cell_type": "markdown",
      "metadata": {
        "id": "biblical-finish"
      },
      "source": [
        "## notas e moedas"
      ],
      "id": "biblical-finish"
    },
    {
      "cell_type": "code",
      "metadata": {
        "colab": {
          "base_uri": "https://localhost:8080/"
        },
        "id": "different-carroll",
        "outputId": "073e602b-1f94-4987-bc31-fb3369166b0d"
      },
      "source": [
        "valor = float(input())\n",
        "\n",
        "notas = [100, 50, 20, 10, 5, 2]\n",
        "moedas = [1, 0.5, 0.25, 0.10, 0.05, 0.01]\n",
        "\n",
        "print('NOTAS:')\n",
        "for nota in notas:\n",
        "    qtd = int(valor/nota)\n",
        "    valor -= (qtd * nota)\n",
        "    \n",
        "    print(\"{} nota(s) de R$ {:.2f}\".format(qtd, nota))\n",
        "    \n",
        "    \n",
        "    \n",
        "print('MOEDAS:')\n",
        "for moeda in moedas:\n",
        "    qtd = int(valor/moeda)\n",
        "    valor -= (qtd * moeda)\n",
        "    \n",
        "    print(\"{} moeda(s) de R$ {:.2f}\".format(qtd, moeda))\n",
        "print(\"\\n\")\n"
      ],
      "id": "different-carroll",
      "execution_count": 11,
      "outputs": [
        {
          "output_type": "stream",
          "text": [
            "100\n",
            "NOTAS:\n",
            "1 nota(s) de R$ 100.00\n",
            "0 nota(s) de R$ 50.00\n",
            "0 nota(s) de R$ 20.00\n",
            "0 nota(s) de R$ 10.00\n",
            "0 nota(s) de R$ 5.00\n",
            "0 nota(s) de R$ 2.00\n",
            "MOEDAS:\n",
            "0 moeda(s) de R$ 1.00\n",
            "0 moeda(s) de R$ 0.50\n",
            "0 moeda(s) de R$ 0.25\n",
            "0 moeda(s) de R$ 0.10\n",
            "0 moeda(s) de R$ 0.05\n",
            "0 moeda(s) de R$ 0.01\n",
            "\n",
            "\n"
          ],
          "name": "stdout"
        }
      ]
    },
    {
      "cell_type": "markdown",
      "metadata": {
        "id": "geological-arena"
      },
      "source": [
        "## Intervalo"
      ],
      "id": "geological-arena"
    },
    {
      "cell_type": "code",
      "metadata": {
        "colab": {
          "base_uri": "https://localhost:8080/"
        },
        "id": "delayed-emerald",
        "outputId": "d4f4e0fd-e614-4ccd-adf6-ad76bcb99d7d"
      },
      "source": [
        "intervalos = [[-1,25], [25,50], [50,75], [75,100]]\n",
        "\n",
        "val_entrada = 25.01\n",
        "caracter_escape = [25, 50, 75]\n",
        "sf = '['\n",
        "\n",
        "if float(val_entrada) >= 0:\n",
        "\n",
        "    chave_valor = [-1,-1]\n",
        "    for valores in intervalos:\n",
        "        if( val_entrada > valores[0] and valores[1] >= val_entrada ):\n",
        "            chave_valor = valores\n",
        "\n",
        "    if chave_valor[0] == -1:\n",
        "        chave_valor[0] = 0\n",
        "        \n",
        "    if (chave_valor[0] in caracter_escape):\n",
        "        sf = '('\n",
        "        \n",
        "    print(\"Intervalo {}{},{}]\".format(sf, chave_valor[0], chave_valor[1]))\n",
        "        \n",
        "else:\n",
        "    print(\"Fora de intervalo\")\n",
        "\n"
      ],
      "id": "delayed-emerald",
      "execution_count": null,
      "outputs": [
        {
          "output_type": "stream",
          "text": [
            "Intervalo (25,50]\n"
          ],
          "name": "stdout"
        }
      ]
    },
    {
      "cell_type": "markdown",
      "metadata": {
        "id": "hundred-institute"
      },
      "source": [
        "## Coordenadas de um Ponto"
      ],
      "id": "hundred-institute"
    },
    {
      "cell_type": "code",
      "metadata": {
        "colab": {
          "base_uri": "https://localhost:8080/"
        },
        "id": "exceptional-aluminum",
        "outputId": "5de62231-1a9a-4e39-85b4-73b13a3a0898"
      },
      "source": [
        "valor = \"0.0 0.0\"\n",
        "vals = valor.split(sep=\" \")\n",
        "\n",
        "x = float(vals[0])\n",
        "y = float(vals[1])\n",
        "\n",
        "if x > 0.0 and y > 0.0:\n",
        "    print(\"Q1\")\n",
        "    \n",
        "if x > 0.0 and y < 0.0:\n",
        "    print(\"Q4\")\n",
        "    \n",
        "if x < 0.0 and y > 0.0:\n",
        "    print(\"Q2\")\n",
        "    \n",
        "if x < 0.0 and y < 0.0:\n",
        "    print(\"Q3\")\n",
        "    \n",
        "if x == 0.0 and y == 0.0:\n",
        "    print(\"Origem\")\n",
        "    "
      ],
      "id": "exceptional-aluminum",
      "execution_count": null,
      "outputs": [
        {
          "output_type": "stream",
          "text": [
            "Origem\n"
          ],
          "name": "stdout"
        }
      ]
    },
    {
      "cell_type": "markdown",
      "metadata": {
        "id": "assured-money"
      },
      "source": [
        "## Animal"
      ],
      "id": "assured-money"
    },
    {
      "cell_type": "code",
      "metadata": {
        "colab": {
          "base_uri": "https://localhost:8080/"
        },
        "id": "administrative-disease",
        "outputId": "40604300-8863-4613-c6ce-858173b8b46d"
      },
      "source": [
        "\n",
        "palavra1 = \"invertebrado\"\n",
        "palavra2 = \"anelideo\"\n",
        "palavra3 = \"onivoro\"\n",
        "\n",
        "if palavra1 == \"vertebrado\":\n",
        "    if (palavra2 == \"ave\"):\n",
        "        if (palavra3 == \"carnivoro\"):\n",
        "            print(\"aguia\")\n",
        "        else:\n",
        "            print(\"pomba\")\n",
        "\n",
        "    else:\n",
        "        if (palavra3 == \"onivoro\"):\n",
        "            print(\"homem\")\n",
        "        else:\n",
        "            print(\"vaca\")\n",
        "else:\n",
        "    if (palavra2 == \"inseto\"):\n",
        "        if (palavra3 == \"hematofago\"):\n",
        "            print(\"pulga\")\n",
        "        else:\n",
        "            print(\"lagarta\")\n",
        "    else:\n",
        "        if (palavra3 == \"hematofago\"):\n",
        "            print(\"sanguessuga\")\n",
        "        else:\n",
        "            print(\"minhoca\")"
      ],
      "id": "administrative-disease",
      "execution_count": null,
      "outputs": [
        {
          "output_type": "stream",
          "text": [
            "minhoca\n"
          ],
          "name": "stdout"
        }
      ]
    },
    {
      "cell_type": "markdown",
      "metadata": {
        "id": "focal-hierarchy"
      },
      "source": [
        "## Sequencia IJ 4"
      ],
      "id": "focal-hierarchy"
    },
    {
      "cell_type": "code",
      "metadata": {
        "colab": {
          "base_uri": "https://localhost:8080/"
        },
        "id": "concrete-blank",
        "outputId": "fc33d6c0-3703-44db-8f96-531e6bbcaae7"
      },
      "source": [
        "sep = [1, 2, 3]\n",
        "a = 0\n",
        "while a <= 2:\n",
        "  i = 0\n",
        "  while i < 3:\n",
        "    print(\"I={} J={}\".format(a, (sep[i] + a) ))\n",
        "    i +=1\n",
        "  \n",
        "  a += 0.2"
      ],
      "id": "concrete-blank",
      "execution_count": 216,
      "outputs": [
        {
          "output_type": "stream",
          "text": [
            "I=0 J=1\n",
            "I=0 J=2\n",
            "I=0 J=3\n",
            "I=0.2 J=1.2\n",
            "I=0.2 J=2.2\n",
            "I=0.2 J=3.2\n",
            "I=0.4 J=1.4\n",
            "I=0.4 J=2.4\n",
            "I=0.4 J=3.4\n",
            "I=0.6000000000000001 J=1.6\n",
            "I=0.6000000000000001 J=2.6\n",
            "I=0.6000000000000001 J=3.6\n",
            "I=0.8 J=1.8\n",
            "I=0.8 J=2.8\n",
            "I=0.8 J=3.8\n",
            "I=1.0 J=2.0\n",
            "I=1.0 J=3.0\n",
            "I=1.0 J=4.0\n",
            "I=1.2 J=2.2\n",
            "I=1.2 J=3.2\n",
            "I=1.2 J=4.2\n",
            "I=1.4 J=2.4\n",
            "I=1.4 J=3.4\n",
            "I=1.4 J=4.4\n",
            "I=1.5999999999999999 J=2.5999999999999996\n",
            "I=1.5999999999999999 J=3.5999999999999996\n",
            "I=1.5999999999999999 J=4.6\n",
            "I=1.7999999999999998 J=2.8\n",
            "I=1.7999999999999998 J=3.8\n",
            "I=1.7999999999999998 J=4.8\n",
            "I=1.9999999999999998 J=3.0\n",
            "I=1.9999999999999998 J=4.0\n",
            "I=1.9999999999999998 J=5.0\n"
          ],
          "name": "stdout"
        }
      ]
    },
    {
      "cell_type": "markdown",
      "metadata": {
        "id": "instrumental-commander"
      },
      "source": [
        "## Várias Notas Com Validação"
      ],
      "id": "instrumental-commander"
    },
    {
      "cell_type": "code",
      "metadata": {
        "id": "healthy-prompt",
        "colab": {
          "base_uri": "https://localhost:8080/"
        },
        "outputId": "6f846fb7-85c3-48eb-a3a5-4afe9cce9bef"
      },
      "source": [
        "valido = True\n",
        "while valido:\n",
        "  nota1 = float( input() )\n",
        "  if nota1 in range(0, 11):\n",
        "\n",
        "    nota2 = float( input() )\n",
        "    if nota2 in range(0, 11):\n",
        "\n",
        "      media = (nota1 + nota2) / 2\n",
        "\n",
        "      print(\"media = {:.2f}\".format( media ))\n",
        "\n",
        "      while valido:\n",
        "        opc = int(input(\"novo calculo (1-sim 2-nao): \"))\n",
        "        if ( opc in range(1, 3) ):\n",
        "          if ( opc == 2 ):\n",
        "            valido = False\n",
        "          else:\n",
        "            break\n",
        "    else:\n",
        "      print(\"nota invalida\")\n",
        "\n",
        "  else:\n",
        "    print(\"nota invalida\")"
      ],
      "id": "healthy-prompt",
      "execution_count": 236,
      "outputs": [
        {
          "output_type": "stream",
          "text": [
            "8\n",
            "9\n",
            "media = 8.50\n",
            "novo calculo (1-sim 2-nao): 1\n",
            "9\n",
            "9\n",
            "media = 9.00\n",
            "novo calculo (1-sim 2-nao): 2\n"
          ],
          "name": "stdout"
        }
      ]
    },
    {
      "cell_type": "markdown",
      "metadata": {
        "id": "legendary-mattress"
      },
      "source": [
        "## Resto da Divisão"
      ],
      "id": "legendary-mattress"
    },
    {
      "cell_type": "code",
      "metadata": {
        "colab": {
          "base_uri": "https://localhost:8080/"
        },
        "id": "CzbSc_thmvC9",
        "outputId": "00931d37-9d03-485d-83ab-4c66d583f977"
      },
      "source": [
        "x = 10\n",
        "y = 18\n",
        "\n",
        "valores = [x, y]\n",
        "valores.sort(reverse=False)\n",
        "\n",
        "for val in range(valores[0], valores[1]):\n",
        "  if (int(val%5) in [2, 3]):\n",
        "    print(val)"
      ],
      "id": "CzbSc_thmvC9",
      "execution_count": null,
      "outputs": [
        {
          "output_type": "stream",
          "text": [
            "12\n",
            "13\n",
            "17\n"
          ],
          "name": "stdout"
        }
      ]
    },
    {
      "cell_type": "markdown",
      "metadata": {
        "id": "attempted-strategy"
      },
      "source": [
        "## Sequências Crescentes"
      ],
      "id": "attempted-strategy"
    },
    {
      "cell_type": "code",
      "metadata": {
        "colab": {
          "base_uri": "https://localhost:8080/"
        },
        "id": "8fHEZTTI9Wb3",
        "outputId": "935a8fc5-0681-4e6a-dc54-dcfb1653dbff"
      },
      "source": [
        "valores = [5, 10, 3, 0]\n",
        "listagem = \"\"\n",
        "for i in valores:\n",
        "  lista = \"\"\n",
        "  for x in range(1, i+1):\n",
        "    lista += \"{} \".format(x)\n",
        "\n",
        "  listagem = \"{}\".format(lista.rstrip())\n",
        "  print(listagem)\n"
      ],
      "id": "8fHEZTTI9Wb3",
      "execution_count": null,
      "outputs": [
        {
          "output_type": "stream",
          "text": [
            "1 2 3 4 5\n",
            "1 2 3 4 5 6 7 8 9 10\n",
            "1 2 3\n",
            "\n"
          ],
          "name": "stdout"
        }
      ]
    },
    {
      "cell_type": "markdown",
      "metadata": {
        "id": "fixed-respondent"
      },
      "source": [
        "## Número Primo"
      ],
      "id": "fixed-respondent"
    },
    {
      "cell_type": "code",
      "metadata": {
        "colab": {
          "base_uri": "https://localhost:8080/"
        },
        "id": "6GNacAK7w9Yq",
        "outputId": "a1f2797d-7cec-4b19-fcac-a854bdeac3f7"
      },
      "source": [
        "valores = [3, 8, 51, 7]\n",
        "\n",
        "for x in valores[1:]:\n",
        "  lista = []\n",
        "  for i in range(1, x+1):\n",
        "    lista.append(x%i)\n",
        "  \n",
        "  \n",
        "  cnt = lista.count(0)\n",
        "\n",
        "  if cnt == 2:\n",
        "    print(f\"{x} eh primo\")\n",
        "  else:\n",
        "    print(f\"{x} nao eh primo\") \n"
      ],
      "id": "6GNacAK7w9Yq",
      "execution_count": null,
      "outputs": [
        {
          "output_type": "stream",
          "text": [
            "8 nao eh primo\n",
            "51 nao eh primo\n",
            "7 eh primo\n"
          ],
          "name": "stdout"
        }
      ]
    },
    {
      "cell_type": "markdown",
      "metadata": {
        "id": "agricultural-depression"
      },
      "source": [
        "## Fibonacci em Vetor"
      ],
      "id": "agricultural-depression"
    },
    {
      "cell_type": "code",
      "metadata": {
        "colab": {
          "base_uri": "https://localhost:8080/"
        },
        "id": "_rPw-vGpHD_w",
        "outputId": "8fa5dddd-83a6-4485-9a1e-8c65247773ac"
      },
      "source": [
        "max = int(input())\n",
        "x = 0\n",
        "vals = []\n",
        "escape = [0, 1, 2]\n",
        "\n",
        "while x < max:\n",
        "  enum = int(input())\n",
        "  if enum in range(0, 61):\n",
        "    vals.append(enum)\n",
        "    x +=1\n",
        "\n",
        "if (len(vals) == max):\n",
        "\n",
        "  for n in vals:\n",
        "    if n in escape:\n",
        "      print(\"Fib({}) = {}\".format(n, int(n/2) ))\n",
        "    else:\n",
        "      ant = 0\n",
        "      prox = 0\n",
        "      fib = []\n",
        "      while (prox < n-1):\n",
        "        fib.append(prox)\n",
        "        prox= prox + ant\n",
        "        ant = prox - ant\n",
        "        \n",
        "        if (prox == 0):\n",
        "          prox = prox + 1\n",
        "\n",
        "      print(\"Fib({}) = {}\".format(n, sum(fib[-2:]) ))\n",
        "\n"
      ],
      "id": "_rPw-vGpHD_w",
      "execution_count": 4,
      "outputs": [
        {
          "output_type": "stream",
          "text": [
            "1\n",
            "4\n",
            "Fib(4) = 3\n"
          ],
          "name": "stdout"
        }
      ]
    },
    {
      "cell_type": "markdown",
      "metadata": {
        "id": "streaming-skirt"
      },
      "source": [
        "## Preenchimento de Vetor III"
      ],
      "id": "streaming-skirt"
    },
    {
      "cell_type": "code",
      "metadata": {
        "colab": {
          "base_uri": "https://localhost:8080/"
        },
        "id": "CBftNg4WcEXm",
        "outputId": "3441677d-69f0-4114-f0ba-11e9f1cd06ad"
      },
      "source": [
        "num = 200.0000\n",
        "vals = list()\n",
        "vals.append(num)\n",
        "\n",
        "for i in range(1, 100):\n",
        "  vals.append(vals[i-1]/2)\n",
        "\n",
        "i = 0\n",
        "while i < len(vals):\n",
        "  print(\"N[{}] = {:.4f}\".format(i, vals[i]))\n",
        "  i +=1"
      ],
      "id": "CBftNg4WcEXm",
      "execution_count": null,
      "outputs": [
        {
          "output_type": "stream",
          "text": [
            "N[0] = 200.0000\n",
            "N[1] = 100.0000\n",
            "N[2] = 50.0000\n",
            "N[3] = 25.0000\n",
            "N[4] = 12.5000\n",
            "N[5] = 6.2500\n",
            "N[6] = 3.1250\n",
            "N[7] = 1.5625\n",
            "N[8] = 0.7812\n",
            "N[9] = 0.3906\n",
            "N[10] = 0.1953\n",
            "N[11] = 0.0977\n",
            "N[12] = 0.0488\n",
            "N[13] = 0.0244\n",
            "N[14] = 0.0122\n",
            "N[15] = 0.0061\n",
            "N[16] = 0.0031\n",
            "N[17] = 0.0015\n",
            "N[18] = 0.0008\n",
            "N[19] = 0.0004\n",
            "N[20] = 0.0002\n",
            "N[21] = 0.0001\n",
            "N[22] = 0.0000\n",
            "N[23] = 0.0000\n",
            "N[24] = 0.0000\n",
            "N[25] = 0.0000\n",
            "N[26] = 0.0000\n",
            "N[27] = 0.0000\n",
            "N[28] = 0.0000\n",
            "N[29] = 0.0000\n",
            "N[30] = 0.0000\n",
            "N[31] = 0.0000\n",
            "N[32] = 0.0000\n",
            "N[33] = 0.0000\n",
            "N[34] = 0.0000\n",
            "N[35] = 0.0000\n",
            "N[36] = 0.0000\n",
            "N[37] = 0.0000\n",
            "N[38] = 0.0000\n",
            "N[39] = 0.0000\n",
            "N[40] = 0.0000\n",
            "N[41] = 0.0000\n",
            "N[42] = 0.0000\n",
            "N[43] = 0.0000\n",
            "N[44] = 0.0000\n",
            "N[45] = 0.0000\n",
            "N[46] = 0.0000\n",
            "N[47] = 0.0000\n",
            "N[48] = 0.0000\n",
            "N[49] = 0.0000\n",
            "N[50] = 0.0000\n",
            "N[51] = 0.0000\n",
            "N[52] = 0.0000\n",
            "N[53] = 0.0000\n",
            "N[54] = 0.0000\n",
            "N[55] = 0.0000\n",
            "N[56] = 0.0000\n",
            "N[57] = 0.0000\n",
            "N[58] = 0.0000\n",
            "N[59] = 0.0000\n",
            "N[60] = 0.0000\n",
            "N[61] = 0.0000\n",
            "N[62] = 0.0000\n",
            "N[63] = 0.0000\n",
            "N[64] = 0.0000\n",
            "N[65] = 0.0000\n",
            "N[66] = 0.0000\n",
            "N[67] = 0.0000\n",
            "N[68] = 0.0000\n",
            "N[69] = 0.0000\n",
            "N[70] = 0.0000\n",
            "N[71] = 0.0000\n",
            "N[72] = 0.0000\n",
            "N[73] = 0.0000\n",
            "N[74] = 0.0000\n",
            "N[75] = 0.0000\n",
            "N[76] = 0.0000\n",
            "N[77] = 0.0000\n",
            "N[78] = 0.0000\n",
            "N[79] = 0.0000\n",
            "N[80] = 0.0000\n",
            "N[81] = 0.0000\n",
            "N[82] = 0.0000\n",
            "N[83] = 0.0000\n",
            "N[84] = 0.0000\n",
            "N[85] = 0.0000\n",
            "N[86] = 0.0000\n",
            "N[87] = 0.0000\n",
            "N[88] = 0.0000\n",
            "N[89] = 0.0000\n",
            "N[90] = 0.0000\n",
            "N[91] = 0.0000\n",
            "N[92] = 0.0000\n",
            "N[93] = 0.0000\n",
            "N[94] = 0.0000\n",
            "N[95] = 0.0000\n",
            "N[96] = 0.0000\n",
            "N[97] = 0.0000\n",
            "N[98] = 0.0000\n",
            "N[99] = 0.0000\n"
          ],
          "name": "stdout"
        }
      ]
    },
    {
      "cell_type": "markdown",
      "metadata": {
        "id": "naughty-tragedy"
      },
      "source": [
        "## Menor e Posição"
      ],
      "id": "naughty-tragedy"
    },
    {
      "cell_type": "code",
      "metadata": {
        "colab": {
          "base_uri": "https://localhost:8080/"
        },
        "id": "NbKmSy6F_7rs",
        "outputId": "02511172-505c-422a-92cd-38c8bb25af71"
      },
      "source": [
        "max = 10\n",
        "nums = \"44\t11\t46\t53\t47\t21\t61\t61\t75\t53\"\n",
        "\n",
        "nr = [int(x) for x in nums.split(sep=\"\\t\")]\n",
        "\n",
        "print(\"Menor valor: {}\".format(min(nr)) )\n",
        "print(\"Posicao: {}\\n\".format(nr.index(min(nr))) )"
      ],
      "id": "NbKmSy6F_7rs",
      "execution_count": 29,
      "outputs": [
        {
          "output_type": "stream",
          "text": [
            "Menor valor: 11\n",
            "Posicao: 1\n",
            "\n"
          ],
          "name": "stdout"
        }
      ]
    },
    {
      "cell_type": "markdown",
      "metadata": {
        "id": "super-rebel"
      },
      "source": [
        "## Acima da Diagonal Principal"
      ],
      "id": "super-rebel"
    },
    {
      "cell_type": "markdown",
      "metadata": {
        "id": "metallic-ivory"
      },
      "source": [
        "## Matriz Quadrada I"
      ],
      "id": "metallic-ivory"
    },
    {
      "cell_type": "markdown",
      "metadata": {
        "id": "joined-population"
      },
      "source": [
        "## Matriz Quadrada III"
      ],
      "id": "joined-population"
    },
    {
      "cell_type": "markdown",
      "metadata": {
        "id": "median-determination"
      },
      "source": [
        "## Dijkstra"
      ],
      "id": "median-determination"
    }
  ]
}